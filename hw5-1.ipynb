{
 "cells": [
  {
   "cell_type": "code",
   "execution_count": 8,
   "metadata": {},
   "outputs": [
    {
     "name": "stdin",
     "output_type": "stream",
     "text": [
      "Enter side1: 2\n",
      "Enter side2: 1\n",
      "Enter side3: 1\n",
      "Enter color: red\n",
      "Enter 1/0 for filled (1: true, 0: false): 1\n"
     ]
    },
    {
     "name": "stdout",
     "output_type": "stream",
     "text": [
      "The input cannot form a triangle\n"
     ]
    }
   ],
   "source": [
    "# import datetime\n",
    "import math\n",
    "\n",
    "class GeometricObject:\n",
    "    def __init__(self, color = \"green\", filled = True):\n",
    "        self.color = color\n",
    "        self.filled = filled\n",
    "\n",
    "    def getColor(self):\n",
    "        return self.color\n",
    "\n",
    "    def setColor(self, color):\n",
    "        self.color = color\n",
    "\n",
    "    def isFilled(self):\n",
    "        return self.filled\n",
    "\n",
    "    def setFilled(self, filled):\n",
    "        self.filled = filled\n",
    "  \n",
    "    def toString(self):\n",
    "        return \"color: \" + self.color + \" and filled: \" + str(self.filled)\n",
    "\n",
    "    \n",
    "class Triangle(GeometricObject):\n",
    "    \n",
    "# •\tThree float data fields named side1 , side2 , and side3 to denote the three sides of the triangle.\n",
    "    side1=0.0\n",
    "    side2=0.0\n",
    "    side3=0.0\n",
    "# •\tThe accessor methods for all three data fields.\n",
    "    def get_side1(self):\n",
    "        return float(self.side1)\n",
    "    def get_side2(self):\n",
    "        return float(self.side2)\n",
    "    def get_side3(self):\n",
    "        return float(self.side3)\n",
    "# •\tA method named getArea() that returns the area of this triangle.\n",
    "# s= permeter/2\n",
    "#sqrt(S(S-A)(S-B)(S-C))\n",
    "    def getArea(self):\n",
    "        perimeter= self.getPerimeter()\n",
    "        s= perimeter/2\n",
    "        area=s\n",
    "        area= math.sqrt(s*((s-self.get_side1())*(s-self.get_side2())*(s-self.get_side3())))      \n",
    "#         area= math.sqrt(s*((s-self.side1)*(s-self.side2)*(s-self.side3)))\n",
    "        return float(area)\n",
    "#     •\tA method named getPerimeter() that returns the perimeter of this triangle.\n",
    "    def getPerimeter(self):\n",
    "        perimeter= self.side1+self.side2+self.side3\n",
    "        return float(perimeter)\n",
    "    def __str__(self):\n",
    "        return  \"Triangle: side1 = \"  + str(self.side1) +  \" side2 = \"  + str(self.side2) +  \" side3 = \"  + str(self.side3)\n",
    "\n",
    "# Implement the Triangle class. \n",
    "# Write a test program that prompts the user to enter the three sides of the triangle, \n",
    "# a color, and 1 or 0 to indicate whether the triangle is filled. \n",
    "# The program should create a Triangle object with these sides and set the color and \n",
    "# filled properties using the input. The program should display the triangle’s area, perimeter, \n",
    "# color, and True or False to indicate whether the triangle is filled or not.\n",
    "\n",
    "def main():\n",
    "    side1= input(\"Enter side1:\")\n",
    "    side2= input(\"Enter side2:\")\n",
    "    side3= input(\"Enter side3:\")\n",
    "    color= input(\"Enter color:\")\n",
    "    fill= input(\"Enter 1/0 for filled (1: true, 0: false):\")\n",
    "    \n",
    "    tri= Triangle(color,fill)\n",
    "    tri.side1=side1\n",
    "    tri.side2= side2\n",
    "    tri.side3=side3\n",
    "    if(side1+side2>side3 and side2+side3>side1 and side3+side1>side2):\n",
    "        print(\"Perimeter: \",tri.getPerimeter())\n",
    "        print(\"Area: \",tri.getArea())\n",
    "        print(tri.__str__())\n",
    "        print(tri.toString())\n",
    "    else:\n",
    "        print(\"The input cannot form a triangle\")\n",
    "    return\n",
    "\n",
    "if __name__ == \"__main__\":\n",
    "    main()"
   ]
  },
  {
   "cell_type": "code",
   "execution_count": null,
   "metadata": {},
   "outputs": [],
   "source": []
  }
 ],
 "metadata": {
  "kernelspec": {
   "display_name": "Python 3",
   "language": "python",
   "name": "python3"
  },
  "language_info": {
   "codemirror_mode": {
    "name": "ipython",
    "version": 3
   },
   "file_extension": ".py",
   "mimetype": "text/x-python",
   "name": "python",
   "nbconvert_exporter": "python",
   "pygments_lexer": "ipython3",
   "version": "3.8.3"
  }
 },
 "nbformat": 4,
 "nbformat_minor": 4
}
