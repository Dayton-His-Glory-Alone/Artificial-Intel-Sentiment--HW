{
 "cells": [
  {
   "cell_type": "code",
   "execution_count": null,
   "metadata": {},
   "outputs": [],
   "source": []
  },
  {
   "cell_type": "code",
   "execution_count": 37,
   "metadata": {},
   "outputs": [
    {
     "name": "stdout",
     "output_type": "stream",
     "text": [
      "Worst manufacturer: ford\n",
      "Cars:\n",
      "1909 Model t\n",
      "Year: 1909, Model: Model t\n",
      "Cars(year=1900, model='Model s')\n",
      "dict_keys([Cars(year=1200, model='Rock')])\n",
      "dict_keys([Cars(year=1200, model='Rock')])\n"
     ]
    }
   ],
   "source": [
    "# To run this program, you will need cars.txt, which is given.\n",
    "\n",
    "# Time magazine created a list of the 50 worst cars ever made.\n",
    "\n",
    "\n",
    "from collections import namedtuple\n",
    "\n",
    "class Dictionary:\n",
    "    year=0\n",
    "    model=''\n",
    "    manu=\"ford\"\n",
    "    key= ''\n",
    "    def __init__(self, year, model):\n",
    "        self.year = year\n",
    "        self.model = model\n",
    "\n",
    "    def getYear(self):\n",
    "        return self.year\n",
    "\n",
    "    def setYear(self, year):\n",
    "        self.year = year\n",
    "        \n",
    "    def getModel(self):\n",
    "        return self.model\n",
    "    \n",
    "    def getManu(self):\n",
    "        return self.manu\n",
    "    \n",
    "    def setModel(self, model):\n",
    "        self.model = model\n",
    "        \n",
    "    def __str__(self):\n",
    "        return \"Year: %s, Model: %s\" % \\\n",
    "    (self.year, self.model)    \n",
    "\n",
    "def main():\n",
    "    tup=()\n",
    "    dict= Dictionary(1909,\"Model t\") \n",
    "    print(\"Worst manufacturer:\", end= \" \")\n",
    "    print(dict.getManu())\n",
    "    print(\"Cars:\")\n",
    "    print(dict.getYear(),dict.getModel())\n",
    "    print(dict.__str__())\n",
    "    # Create a dictionary with keys as the car manufacturer with values a tuple for the (year, model). \n",
    "# Note that in some cases, the model might be absent.\n",
    "    Cars = namedtuple(\"Cars\", [\"year\", \"model\"])\n",
    "    c1 = Cars(year=1900, model=\"Model s\")\n",
    "    print(c1)\n",
    "    carcount = {Cars(1200, \"Rock\"):5}\n",
    "    cars = carcount.keys()\n",
    "#     sorted(cars)\n",
    "#     cars.sort()\n",
    "    print( cars)\n",
    "    sorted(cars)\n",
    "#     cars.sort(key=lambda x:x.year)\n",
    "    print( cars)\n",
    "\n",
    "#     year || model\n",
    "\n",
    "# Then, write a function to find the company that has made the maximum number of worst cars \n",
    "# and list its five cars that are manufactured by the company. \n",
    "\n",
    "# For your convenience, the list of cars appears in the file named cars.txt, which is given. \n",
    "# You can use it for your input data instead of crawling the web site. \n",
    "# Hardcode the input file name in your program, instead of asking the user for providing the input file. \n",
    "\n",
    "\n",
    "    return\n",
    "\n",
    "if __name__ == \"__main__\":\n",
    "    main()"
   ]
  },
  {
   "cell_type": "code",
   "execution_count": null,
   "metadata": {},
   "outputs": [],
   "source": []
  }
 ],
 "metadata": {
  "kernelspec": {
   "display_name": "Python 3",
   "language": "python",
   "name": "python3"
  },
  "language_info": {
   "codemirror_mode": {
    "name": "ipython",
    "version": 3
   },
   "file_extension": ".py",
   "mimetype": "text/x-python",
   "name": "python",
   "nbconvert_exporter": "python",
   "pygments_lexer": "ipython3",
   "version": "3.8.3"
  }
 },
 "nbformat": 4,
 "nbformat_minor": 4
}
