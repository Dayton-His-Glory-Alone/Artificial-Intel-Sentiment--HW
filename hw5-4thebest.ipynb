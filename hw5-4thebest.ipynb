{
 "cells": [
  {
   "cell_type": "code",
   "execution_count": 3,
   "metadata": {},
   "outputs": [
    {
     "name": "stdout",
     "output_type": "stream",
     "text": [
      "Learning data file name?\n"
     ]
    },
    {
     "name": "stdin",
     "output_type": "stream",
     "text": [
      " training.txt\n"
     ]
    },
    {
     "name": "stdout",
     "output_type": "stream",
     "text": [
      "Initializing...\n",
      "16644 total words trained\n",
      "\n",
      "\n",
      "What would you like to do?\n",
      "1: Get the score of a word\n",
      "2: Get the average score of words in a file \n",
      "3: Find the highest / lowest scoring words in a file\n",
      "4: Exit the program\n",
      "\n",
      "\n",
      "Enter a number 1 – 4:\n"
     ]
    },
    {
     "name": "stdin",
     "output_type": "stream",
     "text": [
      " 2\n"
     ]
    },
    {
     "name": "stdout",
     "output_type": "stream",
     "text": [
      "file name?\n"
     ]
    },
    {
     "name": "stdin",
     "output_type": "stream",
     "text": [
      " cat.txt\n"
     ]
    },
    {
     "ename": "TypeError",
     "evalue": "unsupported operand type(s) for /: 'str' and 'int'",
     "output_type": "error",
     "traceback": [
      "\u001b[0;31m---------------------------------------------------------------------------\u001b[0m",
      "\u001b[0;31mTypeError\u001b[0m                                 Traceback (most recent call last)",
      "\u001b[0;32m<ipython-input-3-079d3ffb3091>\u001b[0m in \u001b[0;36m<module>\u001b[0;34m\u001b[0m\n\u001b[1;32m    126\u001b[0m \u001b[0;34m\u001b[0m\u001b[0m\n\u001b[1;32m    127\u001b[0m \u001b[0;32mif\u001b[0m \u001b[0m__name__\u001b[0m \u001b[0;34m==\u001b[0m \u001b[0;34m\"__main__\"\u001b[0m\u001b[0;34m:\u001b[0m\u001b[0;34m\u001b[0m\u001b[0;34m\u001b[0m\u001b[0m\n\u001b[0;32m--> 128\u001b[0;31m     \u001b[0mmain\u001b[0m\u001b[0;34m(\u001b[0m\u001b[0;34m)\u001b[0m\u001b[0;34m\u001b[0m\u001b[0;34m\u001b[0m\u001b[0m\n\u001b[0m\u001b[1;32m    129\u001b[0m \u001b[0;34m\u001b[0m\u001b[0m\n",
      "\u001b[0;32m<ipython-input-3-079d3ffb3091>\u001b[0m in \u001b[0;36mmain\u001b[0;34m()\u001b[0m\n\u001b[1;32m     70\u001b[0m \u001b[0;34m\u001b[0m\u001b[0m\n\u001b[1;32m     71\u001b[0m                     \u001b[0;32mif\u001b[0m \u001b[0mword\u001b[0m \u001b[0;32min\u001b[0m \u001b[0msentimentData\u001b[0m\u001b[0;34m:\u001b[0m\u001b[0;34m\u001b[0m\u001b[0;34m\u001b[0m\u001b[0m\n\u001b[0;32m---> 72\u001b[0;31m                         \u001b[0mscore\u001b[0m \u001b[0;34m=\u001b[0m \u001b[0msentimentData\u001b[0m\u001b[0;34m[\u001b[0m\u001b[0mword\u001b[0m\u001b[0;34m]\u001b[0m\u001b[0;34m[\u001b[0m\u001b[0;36m1\u001b[0m\u001b[0;34m]\u001b[0m \u001b[0;34m/\u001b[0m \u001b[0msentimentData\u001b[0m\u001b[0;34m[\u001b[0m\u001b[0mword\u001b[0m\u001b[0;34m]\u001b[0m\u001b[0;34m[\u001b[0m\u001b[0;36m0\u001b[0m\u001b[0;34m]\u001b[0m\u001b[0;34m\u001b[0m\u001b[0;34m\u001b[0m\u001b[0m\n\u001b[0m\u001b[1;32m     73\u001b[0m                         \u001b[0mprint\u001b[0m\u001b[0;34m(\u001b[0m\u001b[0;34m'* \\''\u001b[0m\u001b[0;34m,\u001b[0m \u001b[0mword\u001b[0m\u001b[0;34m,\u001b[0m \u001b[0;34m'\\' appears '\u001b[0m\u001b[0;34m,\u001b[0m \u001b[0msentimentData\u001b[0m\u001b[0;34m[\u001b[0m\u001b[0mword\u001b[0m\u001b[0;34m]\u001b[0m\u001b[0;34m[\u001b[0m\u001b[0;36m0\u001b[0m\u001b[0;34m]\u001b[0m\u001b[0;34m,\u001b[0m \u001b[0;34m' times with an average score of '\u001b[0m\u001b[0;34m,\u001b[0m \u001b[0mscore\u001b[0m\u001b[0;34m,\u001b[0m \u001b[0msep\u001b[0m \u001b[0;34m=\u001b[0m \u001b[0;34m''\u001b[0m\u001b[0;34m)\u001b[0m\u001b[0;34m\u001b[0m\u001b[0;34m\u001b[0m\u001b[0m\n\u001b[1;32m     74\u001b[0m                         \u001b[0maverage\u001b[0m \u001b[0;34m+=\u001b[0m \u001b[0mscore\u001b[0m\u001b[0;34m\u001b[0m\u001b[0;34m\u001b[0m\u001b[0m\n",
      "\u001b[0;31mTypeError\u001b[0m: unsupported operand type(s) for /: 'str' and 'int'"
     ]
    }
   ],
   "source": [
    "\n",
    "\n",
    "def main():\n",
    "    print(\"Learning data file name?\") \n",
    "    fileName= input()\n",
    "    fileData = open(fileName, 'r')\n",
    "    TotalData = str.lower(fileData.read())\n",
    "    fileData.close()\n",
    "    reviewsData = TotalData.split('\\n')\n",
    "    print('Initializing...')\n",
    "    sentimentData = {}\n",
    "    for review in reviewsData:\n",
    "            words = review.split(' ')\n",
    "            rating= words[0]\n",
    "            for word in words:\n",
    "                if word not in sentimentData:\n",
    "                    sentimentData[word] = [1, (words[0])]\n",
    "                else:\n",
    "                    sentimentData[word][0] += 1\n",
    "                    sentimentData[word][1] += (words[0])\n",
    "\n",
    "    print(len(sentimentData),\"total words trained\")\n",
    "    while True:\n",
    "        print(\"\\n\\nWhat would you like to do?\")\n",
    "        print(\"1: Get the score of a word\")\n",
    "        print(\"2: Get the average score of words in a file \")\n",
    "        print(\"3: Find the highest / lowest scoring words in a file\")\n",
    "        print(\"4: Exit the program\\n\\n\")\n",
    "        print(\"Enter a number 1 – 4:\") \n",
    "        num= input()\n",
    "        if num =='1':\n",
    "            #score score\n",
    "            testWord= input(\"enter word to score: \")\n",
    "#     phraseData = str.lower(input('Enter a phrase to test: '))\n",
    "#     single_phrase = phraseData.split()\n",
    "\n",
    "#     average = 0\n",
    "#     count = 0\n",
    "\n",
    "#     for word in single_phrase:\n",
    "#         if word in sentimentData:\n",
    "#             score = sentimentData[word][1] / sentimentData[word][0]\n",
    "#             print('* \\'', word, '\\' appears ', sentimentData[word][0], ' times with an average score of ', score, sep = '')\n",
    "#             average += score\n",
    "#             count += 1\n",
    "#         else:\n",
    "#             print('* \\'', word, '\\' does not appear in any movie reviews', sep = '')\n",
    "\n",
    "#     if count == 0:\n",
    "#         print('Not enough words to determine sentiment.')\n",
    "#     else:\n",
    "#         print('Average score for this phrase is:', average / count)\n",
    "#     if (average / count) > 2:\n",
    "#         print('This is a POSITIVE phrase')\n",
    "#     else:\n",
    "#         print('This is a NEGATIVE phrase')\n",
    "\n",
    "        if num == '2':\n",
    "            average = 0\n",
    "            count = 0\n",
    "            print(\"file name?\") \n",
    "            fileName= input()\n",
    "            fileData = open(fileName, 'r')\n",
    "            TotalData = str.lower(fileData.read())\n",
    "            fileData.close()\n",
    "            inputData = TotalData.split('\\n')\n",
    "            for line in inputData:\n",
    "                words = review.split(' ')\n",
    "                for word in words:\n",
    "#                     getScore(words[word])\n",
    "                    \n",
    "\n",
    "                    if word in sentimentData:\n",
    "                        score = sentimentData[word][1] / sentimentData[word][0]\n",
    "                        print('* \\'', word, '\\' appears ', sentimentData[word][0], ' times with an average score of ', score, sep = '')\n",
    "                        average += score\n",
    "                        count += 1\n",
    "                    else:\n",
    "                        print('* \\'', word, '\\' does not appear in any movie reviews', sep = '')\n",
    "#                 compare word\n",
    "        if num== '3':\n",
    "            print('.')\n",
    "        if num=='4':\n",
    "            print(\".\")\n",
    "            break\n",
    "\n",
    "#     for review in reviewsData:\n",
    "#         words = review.split(' ')\n",
    "\n",
    "#     for word in words:\n",
    "#         if word not in sentimentData:\n",
    "#             sentimentData[word] = [1, int(words[0])]\n",
    "#         else:\n",
    "#             sentimentData[word][0] += 1\n",
    "#             sentimentData[word][1] += int(words[0])\n",
    "\n",
    "\n",
    "\n",
    "\n",
    "#     print('Unique words are :', len(sentimentData))\n",
    "#     print('For analyses taken time to compelte', time)\n",
    "#     print('')\n",
    "#     phraseData = str.lower(input('Enter a phrase to test: '))\n",
    "#     single_phrase = phraseData.split()\n",
    "\n",
    "#     average = 0\n",
    "#     count = 0\n",
    "\n",
    "#     for word in single_phrase:\n",
    "#         if word in sentimentData:\n",
    "#             score = sentimentData[word][1] / sentimentData[word][0]\n",
    "#             print('* \\'', word, '\\' appears ', sentimentData[word][0], ' times with an average score of ', score, sep = '')\n",
    "#             average += score\n",
    "#             count += 1\n",
    "#         else:\n",
    "#             print('* \\'', word, '\\' does not appear in any movie reviews', sep = '')\n",
    "\n",
    "#     if count == 0:\n",
    "#         print('Not enough words to determine sentiment.')\n",
    "#     else:\n",
    "#         print('Average score for this phrase is:', average / count)\n",
    "#     if (average / count) > 2:\n",
    "#         print('This is a POSITIVE phrase')\n",
    "#     else:\n",
    "#         print('This is a NEGATIVE phrase')\n",
    "\n",
    "    return\n",
    "\n",
    "if __name__ == \"__main__\":\n",
    "    main()\n",
    "\n"
   ]
  },
  {
   "cell_type": "code",
   "execution_count": null,
   "metadata": {},
   "outputs": [],
   "source": []
  }
 ],
 "metadata": {
  "kernelspec": {
   "display_name": "Python 3",
   "language": "python",
   "name": "python3"
  },
  "language_info": {
   "codemirror_mode": {
    "name": "ipython",
    "version": 3
   },
   "file_extension": ".py",
   "mimetype": "text/x-python",
   "name": "python",
   "nbconvert_exporter": "python",
   "pygments_lexer": "ipython3",
   "version": "3.8.3"
  }
 },
 "nbformat": 4,
 "nbformat_minor": 4
}
